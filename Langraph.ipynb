{
  "nbformat": 4,
  "nbformat_minor": 0,
  "metadata": {
    "colab": {
      "provenance": [],
      "gpuType": "T4",
      "authorship_tag": "ABX9TyO7enCG1QMa9Ktj3rbb07Xs",
      "include_colab_link": true
    },
    "kernelspec": {
      "name": "python3",
      "display_name": "Python 3"
    },
    "language_info": {
      "name": "python"
    },
    "accelerator": "GPU"
  },
  "cells": [
    {
      "cell_type": "markdown",
      "metadata": {
        "id": "view-in-github",
        "colab_type": "text"
      },
      "source": [
        "<a href=\"https://colab.research.google.com/github/Rohit-Madhesiya/LangGraph-Implementations/blob/main/Langraph.ipynb\" target=\"_parent\"><img src=\"https://colab.research.google.com/assets/colab-badge.svg\" alt=\"Open In Colab\"/></a>"
      ]
    },
    {
      "cell_type": "markdown",
      "source": [
        "**LangGraph**\n",
        "\n",
        "LangGraph is a library for building stateful, multi-actor applications with LLMs, used to create agent and multi-agent workflows.\\\n",
        "Compared to other LLM frameworks, it offers these core benefits:\n",
        "\n",
        "Cycles, Controllability, and Persistence.\n",
        "\n",
        "LangGraph allows you to define flows that involve cycles, essential for most agentic architectures, differentiating it from DAG-based solutions."
      ],
      "metadata": {
        "id": "V38ypgb4_Zvr"
      }
    },
    {
      "cell_type": "markdown",
      "source": [
        "**Why LangGraph:** Bcz of its amazing benefits\n",
        "\n",
        "**1. Simplifies the development:**\n",
        "* State Management of the agent and Agents co-ordination\n",
        "\n",
        "**2. Flexibility:**\n",
        "\n",
        "With LangGraph, developers have the flexibility to define their own agent logic and communication protocols. This allows for highly customized applications tailored to specific use cases. Whether you need a chatbot that can handle various types of user requests or a multi-agent system that performs complex tasks, LangGraph provides the tools to build exactly what you need. It's all about giving you the power to create.\n",
        "\n",
        "\n",
        "**3. Scalability:**\n",
        "\n",
        "When building large scale multi-agent application => LangGraph handles high volume of Interaction and Complex Workflows => Enterprise->Level applications\n",
        "\n",
        "\n",
        "**4. Fault Tolerance:**\n",
        "\n",
        "LangGraph ables to handle Errors"
      ],
      "metadata": {
        "id": "KKUwBzB2APtG"
      }
    },
    {
      "cell_type": "markdown",
      "source": [
        "---\n",
        "**Chatbots with LangGraph**"
      ],
      "metadata": {
        "id": "sQOxb9aZB10G"
      }
    },
    {
      "cell_type": "code",
      "execution_count": 34,
      "metadata": {
        "colab": {
          "base_uri": "https://localhost:8080/"
        },
        "id": "QhjhVfdx_Tf9",
        "outputId": "7e0aa625-7bfd-4d5d-98e8-c811ea6bb2f6"
      },
      "outputs": [
        {
          "output_type": "stream",
          "name": "stdout",
          "text": [
            "Requirement already satisfied: langgraph in /usr/local/lib/python3.11/dist-packages (0.3.2)\n",
            "Requirement already satisfied: langsmith in /usr/local/lib/python3.11/dist-packages (0.3.11)\n",
            "Requirement already satisfied: langchain-core<0.4,>=0.1 in /usr/local/lib/python3.11/dist-packages (from langgraph) (0.3.40)\n",
            "Requirement already satisfied: langgraph-checkpoint<3.0.0,>=2.0.10 in /usr/local/lib/python3.11/dist-packages (from langgraph) (2.0.16)\n",
            "Requirement already satisfied: langgraph-prebuilt<0.2,>=0.1.1 in /usr/local/lib/python3.11/dist-packages (from langgraph) (0.1.1)\n",
            "Requirement already satisfied: langgraph-sdk<0.2.0,>=0.1.42 in /usr/local/lib/python3.11/dist-packages (from langgraph) (0.1.53)\n",
            "Requirement already satisfied: httpx<1,>=0.23.0 in /usr/local/lib/python3.11/dist-packages (from langsmith) (0.28.1)\n",
            "Requirement already satisfied: orjson<4.0.0,>=3.9.14 in /usr/local/lib/python3.11/dist-packages (from langsmith) (3.10.15)\n",
            "Requirement already satisfied: packaging>=23.2 in /usr/local/lib/python3.11/dist-packages (from langsmith) (24.2)\n",
            "Requirement already satisfied: pydantic<3,>=1 in /usr/local/lib/python3.11/dist-packages (from langsmith) (2.10.6)\n",
            "Requirement already satisfied: requests<3,>=2 in /usr/local/lib/python3.11/dist-packages (from langsmith) (2.32.3)\n",
            "Requirement already satisfied: requests-toolbelt<2.0.0,>=1.0.0 in /usr/local/lib/python3.11/dist-packages (from langsmith) (1.0.0)\n",
            "Requirement already satisfied: zstandard<0.24.0,>=0.23.0 in /usr/local/lib/python3.11/dist-packages (from langsmith) (0.23.0)\n",
            "Requirement already satisfied: anyio in /usr/local/lib/python3.11/dist-packages (from httpx<1,>=0.23.0->langsmith) (3.7.1)\n",
            "Requirement already satisfied: certifi in /usr/local/lib/python3.11/dist-packages (from httpx<1,>=0.23.0->langsmith) (2025.1.31)\n",
            "Requirement already satisfied: httpcore==1.* in /usr/local/lib/python3.11/dist-packages (from httpx<1,>=0.23.0->langsmith) (1.0.7)\n",
            "Requirement already satisfied: idna in /usr/local/lib/python3.11/dist-packages (from httpx<1,>=0.23.0->langsmith) (3.10)\n",
            "Requirement already satisfied: h11<0.15,>=0.13 in /usr/local/lib/python3.11/dist-packages (from httpcore==1.*->httpx<1,>=0.23.0->langsmith) (0.14.0)\n",
            "Requirement already satisfied: tenacity!=8.4.0,<10.0.0,>=8.1.0 in /usr/local/lib/python3.11/dist-packages (from langchain-core<0.4,>=0.1->langgraph) (9.0.0)\n",
            "Requirement already satisfied: jsonpatch<2.0,>=1.33 in /usr/local/lib/python3.11/dist-packages (from langchain-core<0.4,>=0.1->langgraph) (1.33)\n",
            "Requirement already satisfied: PyYAML>=5.3 in /usr/local/lib/python3.11/dist-packages (from langchain-core<0.4,>=0.1->langgraph) (6.0.2)\n",
            "Requirement already satisfied: typing-extensions>=4.7 in /usr/local/lib/python3.11/dist-packages (from langchain-core<0.4,>=0.1->langgraph) (4.12.2)\n",
            "Requirement already satisfied: msgpack<2.0.0,>=1.1.0 in /usr/local/lib/python3.11/dist-packages (from langgraph-checkpoint<3.0.0,>=2.0.10->langgraph) (1.1.0)\n",
            "Requirement already satisfied: annotated-types>=0.6.0 in /usr/local/lib/python3.11/dist-packages (from pydantic<3,>=1->langsmith) (0.7.0)\n",
            "Requirement already satisfied: pydantic-core==2.27.2 in /usr/local/lib/python3.11/dist-packages (from pydantic<3,>=1->langsmith) (2.27.2)\n",
            "Requirement already satisfied: charset-normalizer<4,>=2 in /usr/local/lib/python3.11/dist-packages (from requests<3,>=2->langsmith) (3.4.1)\n",
            "Requirement already satisfied: urllib3<3,>=1.21.1 in /usr/local/lib/python3.11/dist-packages (from requests<3,>=2->langsmith) (2.3.0)\n",
            "Requirement already satisfied: jsonpointer>=1.9 in /usr/local/lib/python3.11/dist-packages (from jsonpatch<2.0,>=1.33->langchain-core<0.4,>=0.1->langgraph) (3.0.0)\n",
            "Requirement already satisfied: sniffio>=1.1 in /usr/local/lib/python3.11/dist-packages (from anyio->httpx<1,>=0.23.0->langsmith) (1.3.1)\n"
          ]
        }
      ],
      "source": [
        "!pip install langgraph langsmith"
      ]
    },
    {
      "cell_type": "code",
      "source": [
        "!pip install langchain langchain_community langchain_groq"
      ],
      "metadata": {
        "colab": {
          "base_uri": "https://localhost:8080/"
        },
        "id": "hSzlgJERCT_B",
        "outputId": "ede6aa81-50f1-4b83-d458-a9687d0d2999"
      },
      "execution_count": 35,
      "outputs": [
        {
          "output_type": "stream",
          "name": "stdout",
          "text": [
            "Requirement already satisfied: langchain in /usr/local/lib/python3.11/dist-packages (0.3.19)\n",
            "Requirement already satisfied: langchain_community in /usr/local/lib/python3.11/dist-packages (0.3.18)\n",
            "Requirement already satisfied: langchain_groq in /usr/local/lib/python3.11/dist-packages (0.2.4)\n",
            "Requirement already satisfied: langchain-core<1.0.0,>=0.3.35 in /usr/local/lib/python3.11/dist-packages (from langchain) (0.3.40)\n",
            "Requirement already satisfied: langchain-text-splitters<1.0.0,>=0.3.6 in /usr/local/lib/python3.11/dist-packages (from langchain) (0.3.6)\n",
            "Requirement already satisfied: langsmith<0.4,>=0.1.17 in /usr/local/lib/python3.11/dist-packages (from langchain) (0.3.11)\n",
            "Requirement already satisfied: pydantic<3.0.0,>=2.7.4 in /usr/local/lib/python3.11/dist-packages (from langchain) (2.10.6)\n",
            "Requirement already satisfied: SQLAlchemy<3,>=1.4 in /usr/local/lib/python3.11/dist-packages (from langchain) (2.0.38)\n",
            "Requirement already satisfied: requests<3,>=2 in /usr/local/lib/python3.11/dist-packages (from langchain) (2.32.3)\n",
            "Requirement already satisfied: PyYAML>=5.3 in /usr/local/lib/python3.11/dist-packages (from langchain) (6.0.2)\n",
            "Requirement already satisfied: aiohttp<4.0.0,>=3.8.3 in /usr/local/lib/python3.11/dist-packages (from langchain) (3.11.13)\n",
            "Requirement already satisfied: tenacity!=8.4.0,<10,>=8.1.0 in /usr/local/lib/python3.11/dist-packages (from langchain) (9.0.0)\n",
            "Requirement already satisfied: numpy<2,>=1.26.4 in /usr/local/lib/python3.11/dist-packages (from langchain) (1.26.4)\n",
            "Requirement already satisfied: dataclasses-json<0.7,>=0.5.7 in /usr/local/lib/python3.11/dist-packages (from langchain_community) (0.6.7)\n",
            "Requirement already satisfied: pydantic-settings<3.0.0,>=2.4.0 in /usr/local/lib/python3.11/dist-packages (from langchain_community) (2.8.1)\n",
            "Requirement already satisfied: httpx-sse<1.0.0,>=0.4.0 in /usr/local/lib/python3.11/dist-packages (from langchain_community) (0.4.0)\n",
            "Requirement already satisfied: groq<1,>=0.4.1 in /usr/local/lib/python3.11/dist-packages (from langchain_groq) (0.18.0)\n",
            "Requirement already satisfied: aiohappyeyeballs>=2.3.0 in /usr/local/lib/python3.11/dist-packages (from aiohttp<4.0.0,>=3.8.3->langchain) (2.4.6)\n",
            "Requirement already satisfied: aiosignal>=1.1.2 in /usr/local/lib/python3.11/dist-packages (from aiohttp<4.0.0,>=3.8.3->langchain) (1.3.2)\n",
            "Requirement already satisfied: attrs>=17.3.0 in /usr/local/lib/python3.11/dist-packages (from aiohttp<4.0.0,>=3.8.3->langchain) (25.1.0)\n",
            "Requirement already satisfied: frozenlist>=1.1.1 in /usr/local/lib/python3.11/dist-packages (from aiohttp<4.0.0,>=3.8.3->langchain) (1.5.0)\n",
            "Requirement already satisfied: multidict<7.0,>=4.5 in /usr/local/lib/python3.11/dist-packages (from aiohttp<4.0.0,>=3.8.3->langchain) (6.1.0)\n",
            "Requirement already satisfied: propcache>=0.2.0 in /usr/local/lib/python3.11/dist-packages (from aiohttp<4.0.0,>=3.8.3->langchain) (0.3.0)\n",
            "Requirement already satisfied: yarl<2.0,>=1.17.0 in /usr/local/lib/python3.11/dist-packages (from aiohttp<4.0.0,>=3.8.3->langchain) (1.18.3)\n",
            "Requirement already satisfied: marshmallow<4.0.0,>=3.18.0 in /usr/local/lib/python3.11/dist-packages (from dataclasses-json<0.7,>=0.5.7->langchain_community) (3.26.1)\n",
            "Requirement already satisfied: typing-inspect<1,>=0.4.0 in /usr/local/lib/python3.11/dist-packages (from dataclasses-json<0.7,>=0.5.7->langchain_community) (0.9.0)\n",
            "Requirement already satisfied: anyio<5,>=3.5.0 in /usr/local/lib/python3.11/dist-packages (from groq<1,>=0.4.1->langchain_groq) (3.7.1)\n",
            "Requirement already satisfied: distro<2,>=1.7.0 in /usr/local/lib/python3.11/dist-packages (from groq<1,>=0.4.1->langchain_groq) (1.9.0)\n",
            "Requirement already satisfied: httpx<1,>=0.23.0 in /usr/local/lib/python3.11/dist-packages (from groq<1,>=0.4.1->langchain_groq) (0.28.1)\n",
            "Requirement already satisfied: sniffio in /usr/local/lib/python3.11/dist-packages (from groq<1,>=0.4.1->langchain_groq) (1.3.1)\n",
            "Requirement already satisfied: typing-extensions<5,>=4.10 in /usr/local/lib/python3.11/dist-packages (from groq<1,>=0.4.1->langchain_groq) (4.12.2)\n",
            "Requirement already satisfied: jsonpatch<2.0,>=1.33 in /usr/local/lib/python3.11/dist-packages (from langchain-core<1.0.0,>=0.3.35->langchain) (1.33)\n",
            "Requirement already satisfied: packaging<25,>=23.2 in /usr/local/lib/python3.11/dist-packages (from langchain-core<1.0.0,>=0.3.35->langchain) (24.2)\n",
            "Requirement already satisfied: orjson<4.0.0,>=3.9.14 in /usr/local/lib/python3.11/dist-packages (from langsmith<0.4,>=0.1.17->langchain) (3.10.15)\n",
            "Requirement already satisfied: requests-toolbelt<2.0.0,>=1.0.0 in /usr/local/lib/python3.11/dist-packages (from langsmith<0.4,>=0.1.17->langchain) (1.0.0)\n",
            "Requirement already satisfied: zstandard<0.24.0,>=0.23.0 in /usr/local/lib/python3.11/dist-packages (from langsmith<0.4,>=0.1.17->langchain) (0.23.0)\n",
            "Requirement already satisfied: annotated-types>=0.6.0 in /usr/local/lib/python3.11/dist-packages (from pydantic<3.0.0,>=2.7.4->langchain) (0.7.0)\n",
            "Requirement already satisfied: pydantic-core==2.27.2 in /usr/local/lib/python3.11/dist-packages (from pydantic<3.0.0,>=2.7.4->langchain) (2.27.2)\n",
            "Requirement already satisfied: python-dotenv>=0.21.0 in /usr/local/lib/python3.11/dist-packages (from pydantic-settings<3.0.0,>=2.4.0->langchain_community) (1.0.1)\n",
            "Requirement already satisfied: charset-normalizer<4,>=2 in /usr/local/lib/python3.11/dist-packages (from requests<3,>=2->langchain) (3.4.1)\n",
            "Requirement already satisfied: idna<4,>=2.5 in /usr/local/lib/python3.11/dist-packages (from requests<3,>=2->langchain) (3.10)\n",
            "Requirement already satisfied: urllib3<3,>=1.21.1 in /usr/local/lib/python3.11/dist-packages (from requests<3,>=2->langchain) (2.3.0)\n",
            "Requirement already satisfied: certifi>=2017.4.17 in /usr/local/lib/python3.11/dist-packages (from requests<3,>=2->langchain) (2025.1.31)\n",
            "Requirement already satisfied: greenlet!=0.4.17 in /usr/local/lib/python3.11/dist-packages (from SQLAlchemy<3,>=1.4->langchain) (3.1.1)\n",
            "Requirement already satisfied: httpcore==1.* in /usr/local/lib/python3.11/dist-packages (from httpx<1,>=0.23.0->groq<1,>=0.4.1->langchain_groq) (1.0.7)\n",
            "Requirement already satisfied: h11<0.15,>=0.13 in /usr/local/lib/python3.11/dist-packages (from httpcore==1.*->httpx<1,>=0.23.0->groq<1,>=0.4.1->langchain_groq) (0.14.0)\n",
            "Requirement already satisfied: jsonpointer>=1.9 in /usr/local/lib/python3.11/dist-packages (from jsonpatch<2.0,>=1.33->langchain-core<1.0.0,>=0.3.35->langchain) (3.0.0)\n",
            "Requirement already satisfied: mypy-extensions>=0.3.0 in /usr/local/lib/python3.11/dist-packages (from typing-inspect<1,>=0.4.0->dataclasses-json<0.7,>=0.5.7->langchain_community) (1.0.0)\n"
          ]
        }
      ]
    },
    {
      "cell_type": "code",
      "source": [
        "import os\n",
        "from google.colab import userdata\n",
        "GROQ_API_KEY=userdata.get(\"GROQ_API_KEY\")\n",
        "LANGCHAIN_API_KEY=userdata.get(\"LANGCHAIN_API_KEY\")\n",
        "os.environ['LANGCHAIN_API_KEY']=LANGCHAIN_API_KEY\n",
        "os.environ['LANGCHAIN_TRACING_V2']=\"true\"\n",
        "os.environ['LANGCHAIN_PROJECT']='Chatbot_using_LangGraph'"
      ],
      "metadata": {
        "id": "whU3sZTZDoNU"
      },
      "execution_count": 65,
      "outputs": []
    },
    {
      "cell_type": "code",
      "source": [
        "from langchain_groq import ChatGroq\n",
        "\n",
        "llm=ChatGroq(groq_api_key=GROQ_API_KEY,model_name=\"gemma2-9b-it\")\n",
        "llm"
      ],
      "metadata": {
        "colab": {
          "base_uri": "https://localhost:8080/"
        },
        "id": "EwytWCrSFS3k",
        "outputId": "b1659820-f5ee-4a54-e584-8c29829308db"
      },
      "execution_count": 66,
      "outputs": [
        {
          "output_type": "execute_result",
          "data": {
            "text/plain": [
              "ChatGroq(client=<groq.resources.chat.completions.Completions object at 0x7e6a55538350>, async_client=<groq.resources.chat.completions.AsyncCompletions object at 0x7e6a55839690>, model_name='gemma2-9b-it', model_kwargs={}, groq_api_key=SecretStr('**********'))"
            ]
          },
          "metadata": {},
          "execution_count": 66
        }
      ]
    },
    {
      "cell_type": "code",
      "source": [
        "from typing import Annotated\n",
        "from typing_extensions import TypedDict\n",
        "from langgraph.graph import StateGraph,START,END\n",
        "from langgraph.graph.message import add_messages"
      ],
      "metadata": {
        "id": "cGh60KNyHS98"
      },
      "execution_count": 67,
      "outputs": []
    },
    {
      "cell_type": "code",
      "source": [
        "class State(TypedDict):\n",
        "  # `messages` have the type 'list'. The `add_messages()` in the annotation\n",
        "  # defines how this state key should be updated\n",
        "  # (in this case, it appends messages to the list, rather than overwritting them)\n",
        "  messages:Annotated[list,add_messages]\n",
        "\n",
        "graph_builder=StateGraph(State)"
      ],
      "metadata": {
        "id": "-c6SKwR0Hy-t"
      },
      "execution_count": 68,
      "outputs": []
    },
    {
      "cell_type": "code",
      "source": [
        "graph_builder"
      ],
      "metadata": {
        "colab": {
          "base_uri": "https://localhost:8080/"
        },
        "id": "dJWtnMqIIugp",
        "outputId": "4c2fe838-81c6-42f0-9fc7-4322edcae340"
      },
      "execution_count": 69,
      "outputs": [
        {
          "output_type": "execute_result",
          "data": {
            "text/plain": [
              "<langgraph.graph.state.StateGraph at 0x7e6a55b9d5d0>"
            ]
          },
          "metadata": {},
          "execution_count": 69
        }
      ]
    },
    {
      "cell_type": "code",
      "source": [
        "def chatbot(state:State):\n",
        "  return {\n",
        "      \"messages\":llm.invoke(state['messages'])\n",
        "  }"
      ],
      "metadata": {
        "id": "QwUhAkezIwZU"
      },
      "execution_count": 70,
      "outputs": []
    },
    {
      "cell_type": "code",
      "source": [
        "graph_builder.add_node(\"chatbot\",chatbot)"
      ],
      "metadata": {
        "colab": {
          "base_uri": "https://localhost:8080/"
        },
        "id": "HpBy-DlbJLPV",
        "outputId": "7e7ada65-1da4-4162-f046-f9d56b7cf820"
      },
      "execution_count": 71,
      "outputs": [
        {
          "output_type": "execute_result",
          "data": {
            "text/plain": [
              "<langgraph.graph.state.StateGraph at 0x7e6a55b9d5d0>"
            ]
          },
          "metadata": {},
          "execution_count": 71
        }
      ]
    },
    {
      "cell_type": "code",
      "source": [
        "graph_builder"
      ],
      "metadata": {
        "colab": {
          "base_uri": "https://localhost:8080/"
        },
        "id": "rufKVJi1JPLT",
        "outputId": "b2fd9d89-c700-404c-f564-c556ef7f90f4"
      },
      "execution_count": 72,
      "outputs": [
        {
          "output_type": "execute_result",
          "data": {
            "text/plain": [
              "<langgraph.graph.state.StateGraph at 0x7e6a55b9d5d0>"
            ]
          },
          "metadata": {},
          "execution_count": 72
        }
      ]
    },
    {
      "cell_type": "code",
      "source": [
        "graph_builder.add_edge(START,\"chatbot\")\n",
        "graph_builder.add_edge(\"chatbot\",END)"
      ],
      "metadata": {
        "colab": {
          "base_uri": "https://localhost:8080/"
        },
        "id": "hsVDwtPfJQuk",
        "outputId": "e658eb7a-a55c-471b-c416-97d6102933f4"
      },
      "execution_count": 73,
      "outputs": [
        {
          "output_type": "execute_result",
          "data": {
            "text/plain": [
              "<langgraph.graph.state.StateGraph at 0x7e6a55b9d5d0>"
            ]
          },
          "metadata": {},
          "execution_count": 73
        }
      ]
    },
    {
      "cell_type": "code",
      "source": [
        "graph=graph_builder.compile()"
      ],
      "metadata": {
        "id": "e_hJMnppJll3"
      },
      "execution_count": 74,
      "outputs": []
    },
    {
      "cell_type": "code",
      "source": [
        "graph"
      ],
      "metadata": {
        "colab": {
          "base_uri": "https://localhost:8080/",
          "height": 251
        },
        "id": "H2r1hBTiJteA",
        "outputId": "0477f63b-86bc-4e7d-a9a9-9830cf7faebb"
      },
      "execution_count": 75,
      "outputs": [
        {
          "output_type": "execute_result",
          "data": {
            "text/plain": [
              "<langgraph.graph.state.CompiledStateGraph object at 0x7e6a55875410>"
            ],
            "image/png": "[encoded data removed]"
          },
          "metadata": {},
          "execution_count": 75
        }
      ]
    },
    {
      "cell_type": "code",
      "source": [
        "while True:\n",
        "  user_input=input(\"User: \")\n",
        "  if user_input.lower() in ['quit','q']:\n",
        "    print(\"Bye,bye!!\")\n",
        "    break\n",
        "  for event in graph.stream({'messages':(\"user\",user_input)}):\n",
        "    print(event.values())\n",
        "    for value in event.values():\n",
        "      print(value['messages'])\n",
        "      print(\"Assistant:\",value['messages'].content)\n"
      ],
      "metadata": {
        "colab": {
          "base_uri": "https://localhost:8080/"
        },
        "id": "3F1fWcXAJ_qv",
        "outputId": "470d61c8-70c4-4f56-be00-5c2131974d46"
      },
      "execution_count": 76,
      "outputs": [
        {
          "output_type": "stream",
          "name": "stdout",
          "text": [
            "User: Hi\n",
            "dict_values([{'messages': AIMessage(content='Hi there! 👋 What can I do for you today?\\n', additional_kwargs={}, response_metadata={'token_usage': {'completion_tokens': 15, 'prompt_tokens': 11, 'total_tokens': 26, 'completion_time': 0.027272727, 'prompt_time': 0.001900897, 'queue_time': 0.017234332, 'total_time': 0.029173624}, 'model_name': 'gemma2-9b-it', 'system_fingerprint': 'fp_10c08bf97d', 'finish_reason': 'stop', 'logprobs': None}, id='run-e1d7a244-19e7-46c4-a5ee-982764efecd4-0', usage_metadata={'input_tokens': 11, 'output_tokens': 15, 'total_tokens': 26})}])\n",
            "content='Hi there! 👋 What can I do for you today?\\n' additional_kwargs={} response_metadata={'token_usage': {'completion_tokens': 15, 'prompt_tokens': 11, 'total_tokens': 26, 'completion_time': 0.027272727, 'prompt_time': 0.001900897, 'queue_time': 0.017234332, 'total_time': 0.029173624}, 'model_name': 'gemma2-9b-it', 'system_fingerprint': 'fp_10c08bf97d', 'finish_reason': 'stop', 'logprobs': None} id='run-e1d7a244-19e7-46c4-a5ee-982764efecd4-0' usage_metadata={'input_tokens': 11, 'output_tokens': 15, 'total_tokens': 26}\n",
            "Assistant: Hi there! 👋 What can I do for you today?\n",
            "\n",
            "User: Who are you\n",
            "dict_values([{'messages': AIMessage(content=\"I am Gemma, an open-weights AI assistant. I am a large language model trained by Google DeepMind. My purpose is to help people by understanding and responding to their requests in a helpful, informative, and comprehensive way. I can generate text, translate languages, write different kinds of creative content, and answer your questions in an informative way.\\n\\nHere are some key things to know about me:\\n\\n* **Open-weights:** My weights are publicly available, meaning anyone can access and study them.\\n* **Text-only:** I can only communicate through text. I can't generate images, sound, or videos.\\n* **Limited knowledge:** My knowledge is based on the data I was trained on, which has a cutoff point. I don't have access to real-time information or the internet to update my knowledge.\\n\\nI am still under development, but I am learning new things every day.\\n\", additional_kwargs={}, response_metadata={'token_usage': {'completion_tokens': 190, 'prompt_tokens': 12, 'total_tokens': 202, 'completion_time': 0.345454545, 'prompt_time': 0.001907807, 'queue_time': 0.016719622, 'total_time': 0.347362352}, 'model_name': 'gemma2-9b-it', 'system_fingerprint': 'fp_10c08bf97d', 'finish_reason': 'stop', 'logprobs': None}, id='run-f2ad8114-255e-44e3-9632-059009c54309-0', usage_metadata={'input_tokens': 12, 'output_tokens': 190, 'total_tokens': 202})}])\n",
            "content=\"I am Gemma, an open-weights AI assistant. I am a large language model trained by Google DeepMind. My purpose is to help people by understanding and responding to their requests in a helpful, informative, and comprehensive way. I can generate text, translate languages, write different kinds of creative content, and answer your questions in an informative way.\\n\\nHere are some key things to know about me:\\n\\n* **Open-weights:** My weights are publicly available, meaning anyone can access and study them.\\n* **Text-only:** I can only communicate through text. I can't generate images, sound, or videos.\\n* **Limited knowledge:** My knowledge is based on the data I was trained on, which has a cutoff point. I don't have access to real-time information or the internet to update my knowledge.\\n\\nI am still under development, but I am learning new things every day.\\n\" additional_kwargs={} response_metadata={'token_usage': {'completion_tokens': 190, 'prompt_tokens': 12, 'total_tokens': 202, 'completion_time': 0.345454545, 'prompt_time': 0.001907807, 'queue_time': 0.016719622, 'total_time': 0.347362352}, 'model_name': 'gemma2-9b-it', 'system_fingerprint': 'fp_10c08bf97d', 'finish_reason': 'stop', 'logprobs': None} id='run-f2ad8114-255e-44e3-9632-059009c54309-0' usage_metadata={'input_tokens': 12, 'output_tokens': 190, 'total_tokens': 202}\n",
            "Assistant: I am Gemma, an open-weights AI assistant. I am a large language model trained by Google DeepMind. My purpose is to help people by understanding and responding to their requests in a helpful, informative, and comprehensive way. I can generate text, translate languages, write different kinds of creative content, and answer your questions in an informative way.\n",
            "\n",
            "Here are some key things to know about me:\n",
            "\n",
            "* **Open-weights:** My weights are publicly available, meaning anyone can access and study them.\n",
            "* **Text-only:** I can only communicate through text. I can't generate images, sound, or videos.\n",
            "* **Limited knowledge:** My knowledge is based on the data I was trained on, which has a cutoff point. I don't have access to real-time information or the internet to update my knowledge.\n",
            "\n",
            "I am still under development, but I am learning new things every day.\n",
            "\n",
            "User: What is GenAI\n",
            "dict_values([{'messages': AIMessage(content=\"GenAI stands for **Generative Artificial Intelligence**. \\n\\nIt's a type of artificial intelligence that focuses on creating new content, rather than simply analyzing existing data. \\n\\nThink of it like this:\\n\\n* **Traditional AI** is good at recognizing patterns and making predictions based on data it's been trained on. For example, it can identify a cat in a picture or predict the next word in a sentence.\\n* **GenAI** goes a step further by using those patterns to generate entirely new content. It can write stories, compose music, create art, and even code software.\\n\\n**Here are some key characteristics of GenAI:**\\n\\n* **Data-driven:** GenAI models are trained on massive datasets of text, code, images, audio, etc. This data allows them to learn the underlying patterns and structures of the content they generate.\\n* **Probabilistic:** GenAI doesn't simply reproduce existing data; it generates new content based on probabilities. This means that even if you train a GenAI model on the same data, it will likely produce slightly different outputs each time.\\n* **Versatile:** GenAI can be used to generate a wide variety of content, from simple text snippets to complex works of art.\\n\\n**Some popular examples of GenAI include:**\\n\\n* **ChatGPT:** A chatbot that can engage in natural-sounding conversations and generate creative text formats.\\n* **DALL-E 2:** An image generation model that can create realistic images from text descriptions.\\n* **GitHub Copilot:** A code completion tool that suggests code snippets as you type.\\n\\nGenAI is a rapidly evolving field with the potential to revolutionize many industries. It's important to note, however, that GenAI models can also be misused to create harmful content, such as fake news or deepfakes.\\n\\n\\nLet me know if you have any other questions about GenAI!\\n\", additional_kwargs={}, response_metadata={'token_usage': {'completion_tokens': 393, 'prompt_tokens': 13, 'total_tokens': 406, 'completion_time': 0.714545455, 'prompt_time': 0.001902687, 'queue_time': 0.019496091, 'total_time': 0.716448142}, 'model_name': 'gemma2-9b-it', 'system_fingerprint': 'fp_10c08bf97d', 'finish_reason': 'stop', 'logprobs': None}, id='run-522fce5c-9a1b-4a50-80c6-f80b1d2be563-0', usage_metadata={'input_tokens': 13, 'output_tokens': 393, 'total_tokens': 406})}])\n",
            "content=\"GenAI stands for **Generative Artificial Intelligence**. \\n\\nIt's a type of artificial intelligence that focuses on creating new content, rather than simply analyzing existing data. \\n\\nThink of it like this:\\n\\n* **Traditional AI** is good at recognizing patterns and making predictions based on data it's been trained on. For example, it can identify a cat in a picture or predict the next word in a sentence.\\n* **GenAI** goes a step further by using those patterns to generate entirely new content. It can write stories, compose music, create art, and even code software.\\n\\n**Here are some key characteristics of GenAI:**\\n\\n* **Data-driven:** GenAI models are trained on massive datasets of text, code, images, audio, etc. This data allows them to learn the underlying patterns and structures of the content they generate.\\n* **Probabilistic:** GenAI doesn't simply reproduce existing data; it generates new content based on probabilities. This means that even if you train a GenAI model on the same data, it will likely produce slightly different outputs each time.\\n* **Versatile:** GenAI can be used to generate a wide variety of content, from simple text snippets to complex works of art.\\n\\n**Some popular examples of GenAI include:**\\n\\n* **ChatGPT:** A chatbot that can engage in natural-sounding conversations and generate creative text formats.\\n* **DALL-E 2:** An image generation model that can create realistic images from text descriptions.\\n* **GitHub Copilot:** A code completion tool that suggests code snippets as you type.\\n\\nGenAI is a rapidly evolving field with the potential to revolutionize many industries. It's important to note, however, that GenAI models can also be misused to create harmful content, such as fake news or deepfakes.\\n\\n\\nLet me know if you have any other questions about GenAI!\\n\" additional_kwargs={} response_metadata={'token_usage': {'completion_tokens': 393, 'prompt_tokens': 13, 'total_tokens': 406, 'completion_time': 0.714545455, 'prompt_time': 0.001902687, 'queue_time': 0.019496091, 'total_time': 0.716448142}, 'model_name': 'gemma2-9b-it', 'system_fingerprint': 'fp_10c08bf97d', 'finish_reason': 'stop', 'logprobs': None} id='run-522fce5c-9a1b-4a50-80c6-f80b1d2be563-0' usage_metadata={'input_tokens': 13, 'output_tokens': 393, 'total_tokens': 406}\n",
            "Assistant: GenAI stands for **Generative Artificial Intelligence**. \n",
            "\n",
            "It's a type of artificial intelligence that focuses on creating new content, rather than simply analyzing existing data. \n",
            "\n",
            "Think of it like this:\n",
            "\n",
            "* **Traditional AI** is good at recognizing patterns and making predictions based on data it's been trained on. For example, it can identify a cat in a picture or predict the next word in a sentence.\n",
            "* **GenAI** goes a step further by using those patterns to generate entirely new content. It can write stories, compose music, create art, and even code software.\n",
            "\n",
            "**Here are some key characteristics of GenAI:**\n",
            "\n",
            "* **Data-driven:** GenAI models are trained on massive datasets of text, code, images, audio, etc. This data allows them to learn the underlying patterns and structures of the content they generate.\n",
            "* **Probabilistic:** GenAI doesn't simply reproduce existing data; it generates new content based on probabilities. This means that even if you train a GenAI model on the same data, it will likely produce slightly different outputs each time.\n",
            "* **Versatile:** GenAI can be used to generate a wide variety of content, from simple text snippets to complex works of art.\n",
            "\n",
            "**Some popular examples of GenAI include:**\n",
            "\n",
            "* **ChatGPT:** A chatbot that can engage in natural-sounding conversations and generate creative text formats.\n",
            "* **DALL-E 2:** An image generation model that can create realistic images from text descriptions.\n",
            "* **GitHub Copilot:** A code completion tool that suggests code snippets as you type.\n",
            "\n",
            "GenAI is a rapidly evolving field with the potential to revolutionize many industries. It's important to note, however, that GenAI models can also be misused to create harmful content, such as fake news or deepfakes.\n",
            "\n",
            "\n",
            "Let me know if you have any other questions about GenAI!\n",
            "\n",
            "User: quit\n",
            "Bye,bye!!\n"
          ]
        }
      ]
    }
  ]
}